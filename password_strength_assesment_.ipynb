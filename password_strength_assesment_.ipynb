{
  "nbformat": 4,
  "nbformat_minor": 0,
  "metadata": {
    "colab": {
      "provenance": [],
      "authorship_tag": "ABX9TyNJqxivsz65/ERJKdWWDQfW",
      "include_colab_link": true
    },
    "kernelspec": {
      "name": "python3",
      "display_name": "Python 3"
    },
    "language_info": {
      "name": "python"
    }
  },
  "cells": [
    {
      "cell_type": "markdown",
      "metadata": {
        "id": "view-in-github",
        "colab_type": "text"
      },
      "source": [
        "<a href=\"https://colab.research.google.com/github/Codeadi01/project-/blob/main/password_strength_assesment_.ipynb\" target=\"_parent\"><img src=\"https://colab.research.google.com/assets/colab-badge.svg\" alt=\"Open In Colab\"/></a>"
      ]
    },
    {
      "cell_type": "code",
      "source": [
        "import pandas as pd\n",
        "import numpy as np\n",
        "import seaborn as sns\n",
        "import matplotlib.pyplot as plt\n",
        "from sklearn.feature_extraction.text import TfidfVectorizer\n",
        "from sklearn.model_selection import train_test_split\n",
        "import warnings\n",
        "warnings.filterwarnings(\"ignore\")"
      ],
      "metadata": {
        "id": "CgVpr1dtl5oZ"
      },
      "execution_count": null,
      "outputs": []
    },
    {
      "cell_type": "markdown",
      "source": [
        "To load the dataset using Pandas, run this code:"
      ],
      "metadata": {
        "id": "jL5L3ajNmIDW"
      }
    },
    {
      "cell_type": "code",
      "source": [
        "pswd_data = pd.read_csv(\"/content/data.csv\",error_bad_lines=False)"
      ],
      "metadata": {
        "colab": {
          "base_uri": "https://localhost:8080/"
        },
        "id": "NlkpFKGzmNnj",
        "outputId": "7f00c2b1-88f5-4ff1-8284-7a8f617c7eaf"
      },
      "execution_count": null,
      "outputs": [
        {
          "output_type": "stream",
          "name": "stderr",
          "text": [
            "Skipping line 2810: expected 2 fields, saw 5\n",
            "Skipping line 4641: expected 2 fields, saw 5\n",
            "Skipping line 7171: expected 2 fields, saw 5\n",
            "Skipping line 11220: expected 2 fields, saw 5\n",
            "Skipping line 13809: expected 2 fields, saw 5\n",
            "Skipping line 14132: expected 2 fields, saw 5\n",
            "Skipping line 14293: expected 2 fields, saw 5\n",
            "Skipping line 14865: expected 2 fields, saw 5\n",
            "Skipping line 17419: expected 2 fields, saw 5\n",
            "Skipping line 22801: expected 2 fields, saw 5\n",
            "Skipping line 25001: expected 2 fields, saw 5\n",
            "Skipping line 26603: expected 2 fields, saw 5\n",
            "Skipping line 26742: expected 2 fields, saw 5\n",
            "Skipping line 29702: expected 2 fields, saw 5\n",
            "Skipping line 32767: expected 2 fields, saw 5\n",
            "Skipping line 32878: expected 2 fields, saw 5\n",
            "Skipping line 35643: expected 2 fields, saw 5\n",
            "Skipping line 36550: expected 2 fields, saw 5\n",
            "Skipping line 38732: expected 2 fields, saw 5\n",
            "Skipping line 40567: expected 2 fields, saw 5\n",
            "Skipping line 40576: expected 2 fields, saw 5\n",
            "Skipping line 41864: expected 2 fields, saw 5\n",
            "Skipping line 46861: expected 2 fields, saw 5\n",
            "Skipping line 47939: expected 2 fields, saw 5\n",
            "Skipping line 48628: expected 2 fields, saw 5\n",
            "Skipping line 48908: expected 2 fields, saw 5\n",
            "Skipping line 57582: expected 2 fields, saw 5\n",
            "Skipping line 58782: expected 2 fields, saw 5\n",
            "Skipping line 58984: expected 2 fields, saw 5\n",
            "Skipping line 61518: expected 2 fields, saw 5\n",
            "Skipping line 63451: expected 2 fields, saw 5\n",
            "Skipping line 68141: expected 2 fields, saw 5\n",
            "Skipping line 72083: expected 2 fields, saw 5\n",
            "Skipping line 74027: expected 2 fields, saw 5\n",
            "Skipping line 77811: expected 2 fields, saw 5\n",
            "Skipping line 83958: expected 2 fields, saw 5\n",
            "Skipping line 85295: expected 2 fields, saw 5\n",
            "Skipping line 88665: expected 2 fields, saw 5\n",
            "Skipping line 89198: expected 2 fields, saw 5\n",
            "Skipping line 92499: expected 2 fields, saw 5\n",
            "Skipping line 92751: expected 2 fields, saw 5\n",
            "Skipping line 93689: expected 2 fields, saw 5\n",
            "Skipping line 94776: expected 2 fields, saw 5\n",
            "Skipping line 97334: expected 2 fields, saw 5\n",
            "Skipping line 102316: expected 2 fields, saw 5\n",
            "Skipping line 103421: expected 2 fields, saw 5\n",
            "Skipping line 106872: expected 2 fields, saw 5\n",
            "Skipping line 109363: expected 2 fields, saw 5\n",
            "Skipping line 110117: expected 2 fields, saw 5\n",
            "Skipping line 110465: expected 2 fields, saw 5\n",
            "Skipping line 113843: expected 2 fields, saw 5\n",
            "Skipping line 115634: expected 2 fields, saw 5\n",
            "Skipping line 121518: expected 2 fields, saw 5\n",
            "Skipping line 123692: expected 2 fields, saw 5\n",
            "Skipping line 124708: expected 2 fields, saw 5\n",
            "Skipping line 129608: expected 2 fields, saw 5\n",
            "Skipping line 133176: expected 2 fields, saw 5\n",
            "Skipping line 135532: expected 2 fields, saw 5\n",
            "Skipping line 138042: expected 2 fields, saw 5\n",
            "Skipping line 139485: expected 2 fields, saw 5\n",
            "Skipping line 140401: expected 2 fields, saw 5\n",
            "Skipping line 144093: expected 2 fields, saw 5\n",
            "Skipping line 149850: expected 2 fields, saw 5\n",
            "Skipping line 151831: expected 2 fields, saw 5\n",
            "Skipping line 158014: expected 2 fields, saw 5\n",
            "Skipping line 162047: expected 2 fields, saw 5\n",
            "Skipping line 164515: expected 2 fields, saw 5\n",
            "Skipping line 170313: expected 2 fields, saw 5\n",
            "Skipping line 171325: expected 2 fields, saw 5\n",
            "Skipping line 171424: expected 2 fields, saw 5\n",
            "Skipping line 175920: expected 2 fields, saw 5\n",
            "Skipping line 176210: expected 2 fields, saw 5\n",
            "Skipping line 183603: expected 2 fields, saw 5\n",
            "Skipping line 190264: expected 2 fields, saw 5\n",
            "Skipping line 191683: expected 2 fields, saw 5\n",
            "Skipping line 191988: expected 2 fields, saw 5\n",
            "Skipping line 195450: expected 2 fields, saw 5\n",
            "Skipping line 195754: expected 2 fields, saw 5\n",
            "Skipping line 197124: expected 2 fields, saw 5\n",
            "Skipping line 199263: expected 2 fields, saw 5\n",
            "Skipping line 202603: expected 2 fields, saw 5\n",
            "Skipping line 209960: expected 2 fields, saw 5\n",
            "Skipping line 213218: expected 2 fields, saw 5\n",
            "Skipping line 217060: expected 2 fields, saw 5\n",
            "Skipping line 220121: expected 2 fields, saw 5\n",
            "Skipping line 223518: expected 2 fields, saw 5\n",
            "Skipping line 226293: expected 2 fields, saw 5\n",
            "Skipping line 227035: expected 2 fields, saw 7\n",
            "Skipping line 227341: expected 2 fields, saw 5\n",
            "Skipping line 227808: expected 2 fields, saw 5\n",
            "Skipping line 228516: expected 2 fields, saw 5\n",
            "Skipping line 228733: expected 2 fields, saw 5\n",
            "Skipping line 232043: expected 2 fields, saw 5\n",
            "Skipping line 232426: expected 2 fields, saw 5\n",
            "Skipping line 234490: expected 2 fields, saw 5\n",
            "Skipping line 239626: expected 2 fields, saw 5\n",
            "Skipping line 240461: expected 2 fields, saw 5\n",
            "Skipping line 244518: expected 2 fields, saw 5\n",
            "Skipping line 245395: expected 2 fields, saw 5\n",
            "Skipping line 246168: expected 2 fields, saw 5\n",
            "Skipping line 246655: expected 2 fields, saw 5\n",
            "Skipping line 246752: expected 2 fields, saw 5\n",
            "Skipping line 247189: expected 2 fields, saw 5\n",
            "Skipping line 250276: expected 2 fields, saw 5\n",
            "Skipping line 255327: expected 2 fields, saw 5\n",
            "Skipping line 257094: expected 2 fields, saw 5\n",
            "\n",
            "Skipping line 264626: expected 2 fields, saw 5\n",
            "Skipping line 265028: expected 2 fields, saw 5\n",
            "Skipping line 269150: expected 2 fields, saw 5\n",
            "Skipping line 271360: expected 2 fields, saw 5\n",
            "Skipping line 273975: expected 2 fields, saw 5\n",
            "Skipping line 274742: expected 2 fields, saw 5\n",
            "Skipping line 276227: expected 2 fields, saw 5\n",
            "Skipping line 279807: expected 2 fields, saw 5\n",
            "Skipping line 283425: expected 2 fields, saw 5\n",
            "Skipping line 287468: expected 2 fields, saw 5\n",
            "Skipping line 292995: expected 2 fields, saw 5\n",
            "Skipping line 293496: expected 2 fields, saw 5\n",
            "Skipping line 293735: expected 2 fields, saw 5\n",
            "Skipping line 295060: expected 2 fields, saw 5\n",
            "Skipping line 296643: expected 2 fields, saw 5\n",
            "Skipping line 296848: expected 2 fields, saw 5\n",
            "Skipping line 308926: expected 2 fields, saw 5\n",
            "Skipping line 310360: expected 2 fields, saw 5\n",
            "Skipping line 317004: expected 2 fields, saw 5\n",
            "Skipping line 318207: expected 2 fields, saw 5\n",
            "Skipping line 331783: expected 2 fields, saw 5\n",
            "Skipping line 333864: expected 2 fields, saw 5\n",
            "Skipping line 335958: expected 2 fields, saw 5\n",
            "Skipping line 336290: expected 2 fields, saw 5\n",
            "Skipping line 343526: expected 2 fields, saw 5\n",
            "Skipping line 343857: expected 2 fields, saw 5\n",
            "Skipping line 344059: expected 2 fields, saw 5\n",
            "Skipping line 348691: expected 2 fields, saw 5\n",
            "Skipping line 353446: expected 2 fields, saw 5\n",
            "Skipping line 357073: expected 2 fields, saw 5\n",
            "Skipping line 359753: expected 2 fields, saw 5\n",
            "Skipping line 359974: expected 2 fields, saw 5\n",
            "Skipping line 366534: expected 2 fields, saw 5\n",
            "Skipping line 369514: expected 2 fields, saw 5\n",
            "Skipping line 377759: expected 2 fields, saw 5\n",
            "Skipping line 379327: expected 2 fields, saw 5\n",
            "Skipping line 380769: expected 2 fields, saw 5\n",
            "Skipping line 381073: expected 2 fields, saw 5\n",
            "Skipping line 381489: expected 2 fields, saw 5\n",
            "Skipping line 386304: expected 2 fields, saw 5\n",
            "Skipping line 387635: expected 2 fields, saw 5\n",
            "Skipping line 389613: expected 2 fields, saw 5\n",
            "Skipping line 392604: expected 2 fields, saw 5\n",
            "Skipping line 393184: expected 2 fields, saw 5\n",
            "Skipping line 395530: expected 2 fields, saw 5\n",
            "Skipping line 396939: expected 2 fields, saw 5\n",
            "Skipping line 397385: expected 2 fields, saw 5\n",
            "Skipping line 397509: expected 2 fields, saw 5\n",
            "Skipping line 402902: expected 2 fields, saw 5\n",
            "Skipping line 405187: expected 2 fields, saw 5\n",
            "Skipping line 408412: expected 2 fields, saw 5\n",
            "Skipping line 419423: expected 2 fields, saw 5\n",
            "Skipping line 420962: expected 2 fields, saw 5\n",
            "Skipping line 425965: expected 2 fields, saw 5\n",
            "Skipping line 427496: expected 2 fields, saw 5\n",
            "Skipping line 438881: expected 2 fields, saw 5\n",
            "Skipping line 439776: expected 2 fields, saw 5\n",
            "Skipping line 440345: expected 2 fields, saw 5\n",
            "Skipping line 445507: expected 2 fields, saw 5\n",
            "Skipping line 445548: expected 2 fields, saw 5\n",
            "Skipping line 447184: expected 2 fields, saw 5\n",
            "Skipping line 448603: expected 2 fields, saw 5\n",
            "Skipping line 451732: expected 2 fields, saw 5\n",
            "Skipping line 458249: expected 2 fields, saw 5\n",
            "Skipping line 460274: expected 2 fields, saw 5\n",
            "Skipping line 467630: expected 2 fields, saw 5\n",
            "Skipping line 473961: expected 2 fields, saw 5\n",
            "Skipping line 476281: expected 2 fields, saw 5\n",
            "Skipping line 478010: expected 2 fields, saw 5\n",
            "Skipping line 478322: expected 2 fields, saw 5\n",
            "Skipping line 479999: expected 2 fields, saw 5\n",
            "Skipping line 480898: expected 2 fields, saw 5\n",
            "Skipping line 481688: expected 2 fields, saw 5\n",
            "Skipping line 485193: expected 2 fields, saw 5\n",
            "Skipping line 485519: expected 2 fields, saw 5\n",
            "Skipping line 486000: expected 2 fields, saw 5\n",
            "Skipping line 489063: expected 2 fields, saw 5\n",
            "Skipping line 494525: expected 2 fields, saw 5\n",
            "Skipping line 495009: expected 2 fields, saw 5\n",
            "Skipping line 501954: expected 2 fields, saw 5\n",
            "Skipping line 508035: expected 2 fields, saw 5\n",
            "Skipping line 508828: expected 2 fields, saw 5\n",
            "Skipping line 509833: expected 2 fields, saw 5\n",
            "Skipping line 510410: expected 2 fields, saw 5\n",
            "Skipping line 518229: expected 2 fields, saw 5\n",
            "Skipping line 520302: expected 2 fields, saw 5\n",
            "Skipping line 520340: expected 2 fields, saw 5\n",
            "\n",
            "Skipping line 525174: expected 2 fields, saw 5\n",
            "Skipping line 526251: expected 2 fields, saw 5\n",
            "Skipping line 529611: expected 2 fields, saw 5\n",
            "Skipping line 531398: expected 2 fields, saw 5\n",
            "Skipping line 534146: expected 2 fields, saw 5\n",
            "Skipping line 544954: expected 2 fields, saw 5\n",
            "Skipping line 553002: expected 2 fields, saw 5\n",
            "Skipping line 553883: expected 2 fields, saw 5\n",
            "Skipping line 553887: expected 2 fields, saw 5\n",
            "Skipping line 553915: expected 2 fields, saw 5\n",
            "Skipping line 554172: expected 2 fields, saw 5\n",
            "Skipping line 563534: expected 2 fields, saw 5\n",
            "Skipping line 565191: expected 2 fields, saw 5\n",
            "Skipping line 574108: expected 2 fields, saw 5\n",
            "Skipping line 574412: expected 2 fields, saw 5\n",
            "Skipping line 575985: expected 2 fields, saw 5\n",
            "Skipping line 580091: expected 2 fields, saw 5\n",
            "Skipping line 582682: expected 2 fields, saw 5\n",
            "Skipping line 585885: expected 2 fields, saw 5\n",
            "Skipping line 590171: expected 2 fields, saw 5\n",
            "Skipping line 591924: expected 2 fields, saw 5\n",
            "Skipping line 592515: expected 2 fields, saw 5\n",
            "Skipping line 593888: expected 2 fields, saw 5\n",
            "Skipping line 596245: expected 2 fields, saw 5\n",
            "Skipping line 607344: expected 2 fields, saw 5\n",
            "Skipping line 607633: expected 2 fields, saw 5\n",
            "Skipping line 610939: expected 2 fields, saw 5\n",
            "Skipping line 613638: expected 2 fields, saw 5\n",
            "Skipping line 615643: expected 2 fields, saw 5\n",
            "Skipping line 615901: expected 2 fields, saw 5\n",
            "Skipping line 617389: expected 2 fields, saw 5\n",
            "Skipping line 634641: expected 2 fields, saw 5\n",
            "Skipping line 635755: expected 2 fields, saw 5\n",
            "Skipping line 646243: expected 2 fields, saw 5\n",
            "Skipping line 647165: expected 2 fields, saw 5\n",
            "Skipping line 648610: expected 2 fields, saw 5\n",
            "Skipping line 648772: expected 2 fields, saw 5\n",
            "Skipping line 651833: expected 2 fields, saw 5\n",
            "Skipping line 653663: expected 2 fields, saw 5\n",
            "Skipping line 656233: expected 2 fields, saw 5\n",
            "Skipping line 656694: expected 2 fields, saw 5\n",
            "Skipping line 659783: expected 2 fields, saw 5\n",
            "Skipping line 660478: expected 2 fields, saw 5\n",
            "Skipping line 661133: expected 2 fields, saw 5\n",
            "Skipping line 661736: expected 2 fields, saw 5\n",
            "Skipping line 669827: expected 2 fields, saw 5\n",
            "\n"
          ]
        }
      ]
    },
    {
      "cell_type": "markdown",
      "source": [
        "To know if our dataset is successfully loaded, run this code:"
      ],
      "metadata": {
        "id": "Mtu8lfTtrPDX"
      }
    },
    {
      "cell_type": "code",
      "source": [
        "pswd_data.head()"
      ],
      "metadata": {
        "colab": {
          "base_uri": "https://localhost:8080/",
          "height": 206
        },
        "id": "5z9VDR2EmiA4",
        "outputId": "be26420e-5e01-4f05-91b6-599f45d42ab9"
      },
      "execution_count": null,
      "outputs": [
        {
          "output_type": "execute_result",
          "data": {
            "text/plain": [
              "      password  strength\n",
              "0     kzde5577         1\n",
              "1     kino3434         1\n",
              "2    visi7k1yr         1\n",
              "3     megzy123         1\n",
              "4  lamborghin1         1"
            ],
            "text/html": [
              "\n",
              "  <div id=\"df-825a4442-18ac-4c22-bce4-8bed9c1c3386\" class=\"colab-df-container\">\n",
              "    <div>\n",
              "<style scoped>\n",
              "    .dataframe tbody tr th:only-of-type {\n",
              "        vertical-align: middle;\n",
              "    }\n",
              "\n",
              "    .dataframe tbody tr th {\n",
              "        vertical-align: top;\n",
              "    }\n",
              "\n",
              "    .dataframe thead th {\n",
              "        text-align: right;\n",
              "    }\n",
              "</style>\n",
              "<table border=\"1\" class=\"dataframe\">\n",
              "  <thead>\n",
              "    <tr style=\"text-align: right;\">\n",
              "      <th></th>\n",
              "      <th>password</th>\n",
              "      <th>strength</th>\n",
              "    </tr>\n",
              "  </thead>\n",
              "  <tbody>\n",
              "    <tr>\n",
              "      <th>0</th>\n",
              "      <td>kzde5577</td>\n",
              "      <td>1</td>\n",
              "    </tr>\n",
              "    <tr>\n",
              "      <th>1</th>\n",
              "      <td>kino3434</td>\n",
              "      <td>1</td>\n",
              "    </tr>\n",
              "    <tr>\n",
              "      <th>2</th>\n",
              "      <td>visi7k1yr</td>\n",
              "      <td>1</td>\n",
              "    </tr>\n",
              "    <tr>\n",
              "      <th>3</th>\n",
              "      <td>megzy123</td>\n",
              "      <td>1</td>\n",
              "    </tr>\n",
              "    <tr>\n",
              "      <th>4</th>\n",
              "      <td>lamborghin1</td>\n",
              "      <td>1</td>\n",
              "    </tr>\n",
              "  </tbody>\n",
              "</table>\n",
              "</div>\n",
              "    <div class=\"colab-df-buttons\">\n",
              "\n",
              "  <div class=\"colab-df-container\">\n",
              "    <button class=\"colab-df-convert\" onclick=\"convertToInteractive('df-825a4442-18ac-4c22-bce4-8bed9c1c3386')\"\n",
              "            title=\"Convert this dataframe to an interactive table.\"\n",
              "            style=\"display:none;\">\n",
              "\n",
              "  <svg xmlns=\"http://www.w3.org/2000/svg\" height=\"24px\" viewBox=\"0 -960 960 960\">\n",
              "    <path d=\"M120-120v-720h720v720H120Zm60-500h600v-160H180v160Zm220 220h160v-160H400v160Zm0 220h160v-160H400v160ZM180-400h160v-160H180v160Zm440 0h160v-160H620v160ZM180-180h160v-160H180v160Zm440 0h160v-160H620v160Z\"/>\n",
              "  </svg>\n",
              "    </button>\n",
              "\n",
              "  <style>\n",
              "    .colab-df-container {\n",
              "      display:flex;\n",
              "      gap: 12px;\n",
              "    }\n",
              "\n",
              "    .colab-df-convert {\n",
              "      background-color: #E8F0FE;\n",
              "      border: none;\n",
              "      border-radius: 50%;\n",
              "      cursor: pointer;\n",
              "      display: none;\n",
              "      fill: #1967D2;\n",
              "      height: 32px;\n",
              "      padding: 0 0 0 0;\n",
              "      width: 32px;\n",
              "    }\n",
              "\n",
              "    .colab-df-convert:hover {\n",
              "      background-color: #E2EBFA;\n",
              "      box-shadow: 0px 1px 2px rgba(60, 64, 67, 0.3), 0px 1px 3px 1px rgba(60, 64, 67, 0.15);\n",
              "      fill: #174EA6;\n",
              "    }\n",
              "\n",
              "    .colab-df-buttons div {\n",
              "      margin-bottom: 4px;\n",
              "    }\n",
              "\n",
              "    [theme=dark] .colab-df-convert {\n",
              "      background-color: #3B4455;\n",
              "      fill: #D2E3FC;\n",
              "    }\n",
              "\n",
              "    [theme=dark] .colab-df-convert:hover {\n",
              "      background-color: #434B5C;\n",
              "      box-shadow: 0px 1px 3px 1px rgba(0, 0, 0, 0.15);\n",
              "      filter: drop-shadow(0px 1px 2px rgba(0, 0, 0, 0.3));\n",
              "      fill: #FFFFFF;\n",
              "    }\n",
              "  </style>\n",
              "\n",
              "    <script>\n",
              "      const buttonEl =\n",
              "        document.querySelector('#df-825a4442-18ac-4c22-bce4-8bed9c1c3386 button.colab-df-convert');\n",
              "      buttonEl.style.display =\n",
              "        google.colab.kernel.accessAllowed ? 'block' : 'none';\n",
              "\n",
              "      async function convertToInteractive(key) {\n",
              "        const element = document.querySelector('#df-825a4442-18ac-4c22-bce4-8bed9c1c3386');\n",
              "        const dataTable =\n",
              "          await google.colab.kernel.invokeFunction('convertToInteractive',\n",
              "                                                    [key], {});\n",
              "        if (!dataTable) return;\n",
              "\n",
              "        const docLinkHtml = 'Like what you see? Visit the ' +\n",
              "          '<a target=\"_blank\" href=https://colab.research.google.com/notebooks/data_table.ipynb>data table notebook</a>'\n",
              "          + ' to learn more about interactive tables.';\n",
              "        element.innerHTML = '';\n",
              "        dataTable['output_type'] = 'display_data';\n",
              "        await google.colab.output.renderOutput(dataTable, element);\n",
              "        const docLink = document.createElement('div');\n",
              "        docLink.innerHTML = docLinkHtml;\n",
              "        element.appendChild(docLink);\n",
              "      }\n",
              "    </script>\n",
              "  </div>\n",
              "\n",
              "\n",
              "<div id=\"df-1c878a30-c8d3-4cf3-85fb-48d38ede06ec\">\n",
              "  <button class=\"colab-df-quickchart\" onclick=\"quickchart('df-1c878a30-c8d3-4cf3-85fb-48d38ede06ec')\"\n",
              "            title=\"Suggest charts\"\n",
              "            style=\"display:none;\">\n",
              "\n",
              "<svg xmlns=\"http://www.w3.org/2000/svg\" height=\"24px\"viewBox=\"0 0 24 24\"\n",
              "     width=\"24px\">\n",
              "    <g>\n",
              "        <path d=\"M19 3H5c-1.1 0-2 .9-2 2v14c0 1.1.9 2 2 2h14c1.1 0 2-.9 2-2V5c0-1.1-.9-2-2-2zM9 17H7v-7h2v7zm4 0h-2V7h2v10zm4 0h-2v-4h2v4z\"/>\n",
              "    </g>\n",
              "</svg>\n",
              "  </button>\n",
              "\n",
              "<style>\n",
              "  .colab-df-quickchart {\n",
              "      --bg-color: #E8F0FE;\n",
              "      --fill-color: #1967D2;\n",
              "      --hover-bg-color: #E2EBFA;\n",
              "      --hover-fill-color: #174EA6;\n",
              "      --disabled-fill-color: #AAA;\n",
              "      --disabled-bg-color: #DDD;\n",
              "  }\n",
              "\n",
              "  [theme=dark] .colab-df-quickchart {\n",
              "      --bg-color: #3B4455;\n",
              "      --fill-color: #D2E3FC;\n",
              "      --hover-bg-color: #434B5C;\n",
              "      --hover-fill-color: #FFFFFF;\n",
              "      --disabled-bg-color: #3B4455;\n",
              "      --disabled-fill-color: #666;\n",
              "  }\n",
              "\n",
              "  .colab-df-quickchart {\n",
              "    background-color: var(--bg-color);\n",
              "    border: none;\n",
              "    border-radius: 50%;\n",
              "    cursor: pointer;\n",
              "    display: none;\n",
              "    fill: var(--fill-color);\n",
              "    height: 32px;\n",
              "    padding: 0;\n",
              "    width: 32px;\n",
              "  }\n",
              "\n",
              "  .colab-df-quickchart:hover {\n",
              "    background-color: var(--hover-bg-color);\n",
              "    box-shadow: 0 1px 2px rgba(60, 64, 67, 0.3), 0 1px 3px 1px rgba(60, 64, 67, 0.15);\n",
              "    fill: var(--button-hover-fill-color);\n",
              "  }\n",
              "\n",
              "  .colab-df-quickchart-complete:disabled,\n",
              "  .colab-df-quickchart-complete:disabled:hover {\n",
              "    background-color: var(--disabled-bg-color);\n",
              "    fill: var(--disabled-fill-color);\n",
              "    box-shadow: none;\n",
              "  }\n",
              "\n",
              "  .colab-df-spinner {\n",
              "    border: 2px solid var(--fill-color);\n",
              "    border-color: transparent;\n",
              "    border-bottom-color: var(--fill-color);\n",
              "    animation:\n",
              "      spin 1s steps(1) infinite;\n",
              "  }\n",
              "\n",
              "  @keyframes spin {\n",
              "    0% {\n",
              "      border-color: transparent;\n",
              "      border-bottom-color: var(--fill-color);\n",
              "      border-left-color: var(--fill-color);\n",
              "    }\n",
              "    20% {\n",
              "      border-color: transparent;\n",
              "      border-left-color: var(--fill-color);\n",
              "      border-top-color: var(--fill-color);\n",
              "    }\n",
              "    30% {\n",
              "      border-color: transparent;\n",
              "      border-left-color: var(--fill-color);\n",
              "      border-top-color: var(--fill-color);\n",
              "      border-right-color: var(--fill-color);\n",
              "    }\n",
              "    40% {\n",
              "      border-color: transparent;\n",
              "      border-right-color: var(--fill-color);\n",
              "      border-top-color: var(--fill-color);\n",
              "    }\n",
              "    60% {\n",
              "      border-color: transparent;\n",
              "      border-right-color: var(--fill-color);\n",
              "    }\n",
              "    80% {\n",
              "      border-color: transparent;\n",
              "      border-right-color: var(--fill-color);\n",
              "      border-bottom-color: var(--fill-color);\n",
              "    }\n",
              "    90% {\n",
              "      border-color: transparent;\n",
              "      border-bottom-color: var(--fill-color);\n",
              "    }\n",
              "  }\n",
              "</style>\n",
              "\n",
              "  <script>\n",
              "    async function quickchart(key) {\n",
              "      const quickchartButtonEl =\n",
              "        document.querySelector('#' + key + ' button');\n",
              "      quickchartButtonEl.disabled = true;  // To prevent multiple clicks.\n",
              "      quickchartButtonEl.classList.add('colab-df-spinner');\n",
              "      try {\n",
              "        const charts = await google.colab.kernel.invokeFunction(\n",
              "            'suggestCharts', [key], {});\n",
              "      } catch (error) {\n",
              "        console.error('Error during call to suggestCharts:', error);\n",
              "      }\n",
              "      quickchartButtonEl.classList.remove('colab-df-spinner');\n",
              "      quickchartButtonEl.classList.add('colab-df-quickchart-complete');\n",
              "    }\n",
              "    (() => {\n",
              "      let quickchartButtonEl =\n",
              "        document.querySelector('#df-1c878a30-c8d3-4cf3-85fb-48d38ede06ec button');\n",
              "      quickchartButtonEl.style.display =\n",
              "        google.colab.kernel.accessAllowed ? 'block' : 'none';\n",
              "    })();\n",
              "  </script>\n",
              "</div>\n",
              "    </div>\n",
              "  </div>\n"
            ]
          },
          "metadata": {},
          "execution_count": 4
        }
      ]
    },
    {
      "cell_type": "markdown",
      "source": [
        "From the image above, our dataset has password and strength columns. The password column holds the password text and the strength columns contain the password strengths.\n",
        "\n",
        "To check all the password strength values, run this code:"
      ],
      "metadata": {
        "id": "lZSZpATjub4c"
      }
    },
    {
      "cell_type": "code",
      "source": [
        "pswd_data['strength'].unique()"
      ],
      "metadata": {
        "colab": {
          "base_uri": "https://localhost:8080/"
        },
        "id": "AAL0Dsl7mmCY",
        "outputId": "616480db-7142-4c61-fc7f-f3a595a84c7d"
      },
      "execution_count": null,
      "outputs": [
        {
          "output_type": "execute_result",
          "data": {
            "text/plain": [
              "array([1, 2, 0])"
            ]
          },
          "metadata": {},
          "execution_count": 5
        }
      ]
    },
    {
      "cell_type": "markdown",
      "source": [
        "From the output above, our password strength has three values. 0 represents the weakest passwords, 1 for medium passwords, and 2 for strongest passwords.\n",
        "\n",
        "This dataset may have missing values, let’s now check for missing values in our dataset."
      ],
      "metadata": {
        "id": "SKmcO5BBuoJ-"
      }
    },
    {
      "cell_type": "code",
      "source": [
        "pswd_data.info()"
      ],
      "metadata": {
        "colab": {
          "base_uri": "https://localhost:8080/"
        },
        "id": "5zl_O1Fy8sPS",
        "outputId": "3c7d3da9-260a-4058-9ef8-0aebb87e1f5c"
      },
      "execution_count": null,
      "outputs": [
        {
          "output_type": "stream",
          "name": "stdout",
          "text": [
            "<class 'pandas.core.frame.DataFrame'>\n",
            "RangeIndex: 669640 entries, 0 to 669639\n",
            "Data columns (total 2 columns):\n",
            " #   Column    Non-Null Count   Dtype \n",
            "---  ------    --------------   ----- \n",
            " 0   password  669639 non-null  object\n",
            " 1   strength  669640 non-null  int64 \n",
            "dtypes: int64(1), object(1)\n",
            "memory usage: 10.2+ MB\n"
          ]
        }
      ]
    },
    {
      "cell_type": "code",
      "source": [
        "pswd_data.isna().sum()"
      ],
      "metadata": {
        "colab": {
          "base_uri": "https://localhost:8080/"
        },
        "id": "HRJlKA2duing",
        "outputId": "d6d243a2-dfc6-4f35-f4ce-fa2b965ce091"
      },
      "execution_count": null,
      "outputs": [
        {
          "output_type": "execute_result",
          "data": {
            "text/plain": [
              "password    1\n",
              "strength    0\n",
              "dtype: int64"
            ]
          },
          "metadata": {},
          "execution_count": 7
        }
      ]
    },
    {
      "cell_type": "markdown",
      "source": [
        "From the image above, our dataset has one missing value. Let’s remove the missing value using the following code:\n"
      ],
      "metadata": {
        "id": "6P-gnnSzu1Yo"
      }
    },
    {
      "cell_type": "code",
      "source": [
        "pswd_data.dropna(inplace=True)\n",
        "pswd_data.isnull().sum()"
      ],
      "metadata": {
        "colab": {
          "base_uri": "https://localhost:8080/"
        },
        "id": "__WtXAJlu6ck",
        "outputId": "05363875-a1d6-418d-d4bb-aeaa9581aeb8"
      },
      "execution_count": null,
      "outputs": [
        {
          "output_type": "execute_result",
          "data": {
            "text/plain": [
              "password    0\n",
              "strength    0\n",
              "dtype: int64"
            ]
          },
          "metadata": {},
          "execution_count": 8
        }
      ]
    },
    {
      "cell_type": "markdown",
      "source": [
        "After removing the missing values, we will convert our dataset into an array."
      ],
      "metadata": {
        "id": "YkC92rZ2v7un"
      }
    },
    {
      "cell_type": "code",
      "source": [
        "pswd = np.array(pswd_data)\n",
        "pswd"
      ],
      "metadata": {
        "colab": {
          "base_uri": "https://localhost:8080/"
        },
        "id": "8HKFiDLEv8nc",
        "outputId": "493a1d64-524a-424d-c61e-886a3d570698"
      },
      "execution_count": null,
      "outputs": [
        {
          "output_type": "execute_result",
          "data": {
            "text/plain": [
              "array([['kzde5577', 1],\n",
              "       ['kino3434', 1],\n",
              "       ['visi7k1yr', 1],\n",
              "       ...,\n",
              "       ['184520socram', 1],\n",
              "       ['marken22a', 1],\n",
              "       ['fxx4pw4g', 1]], dtype=object)"
            ]
          },
          "metadata": {},
          "execution_count": 9
        }
      ]
    },
    {
      "cell_type": "code",
      "source": [
        "sns.displot(pswd_data[\"strength\"])"
      ],
      "metadata": {
        "colab": {
          "base_uri": "https://localhost:8080/",
          "height": 523
        },
        "id": "_VAMnAxcjXKh",
        "outputId": "4c578264-8b27-44ba-c629-94c5c2b17a7a"
      },
      "execution_count": null,
      "outputs": [
        {
          "output_type": "execute_result",
          "data": {
            "text/plain": [
              "<seaborn.axisgrid.FacetGrid at 0x7f24187854b0>"
            ]
          },
          "metadata": {},
          "execution_count": 10
        },
        {
          "output_type": "display_data",
          "data": {
            "text/plain": [
              "<Figure size 500x500 with 1 Axes>"
            ],
            "image/png": "[encoded data removed]"
          },
          "metadata": {}
        }
      ]
    },
    {
      "cell_type": "markdown",
      "source": [
        "The next step is to shuffle our dataset randomly.\n",
        "When using a shuffled dataset, the model will understand patterns and relationships within our dataset.\n",
        "\n",
        "To shuffle our dataset, we will import the random Python package."
      ],
      "metadata": {
        "id": "CQGFStTFwv-V"
      }
    },
    {
      "cell_type": "code",
      "source": [
        "import random"
      ],
      "metadata": {
        "id": "tGKKrl43w2tv"
      },
      "execution_count": null,
      "outputs": []
    },
    {
      "cell_type": "markdown",
      "source": [
        "We can now randomly shuffle the dataset using the following code:"
      ],
      "metadata": {
        "id": "k6Ql_6Tbw692"
      }
    },
    {
      "cell_type": "code",
      "source": [
        "random.shuffle(pswd)"
      ],
      "metadata": {
        "id": "1LsaBZIBw-II"
      },
      "execution_count": null,
      "outputs": []
    },
    {
      "cell_type": "markdown",
      "source": [
        "Adding features and labels\n",
        "\n",
        " Here, our features are located in the password column. The password column holds all the text passwords that will train our model.\n",
        "\n",
        " Labels are variables in our dataset that are used as output for the model. Here, our labels are located in the strength column. The strength column has three values, 0, 1, and 2."
      ],
      "metadata": {
        "id": "7TBs20WSxR_l"
      }
    },
    {
      "cell_type": "code",
      "source": [
        "ylabels  = [s[1] for s in pswd]\n",
        "allpasswords = [s[0] for s in pswd]"
      ],
      "metadata": {
        "id": "owNOwXdOxj6S"
      },
      "execution_count": null,
      "outputs": []
    },
    {
      "cell_type": "markdown",
      "source": [
        "Run the following code to check the number of passwords and labels in our dataset:\n",
        "\n",
        "Number of labels:"
      ],
      "metadata": {
        "id": "eEwYK3pAxrWX"
      }
    },
    {
      "cell_type": "code",
      "source": [
        "len(ylabels)"
      ],
      "metadata": {
        "colab": {
          "base_uri": "https://localhost:8080/"
        },
        "id": "ThI2PsLXxsCx",
        "outputId": "f0b1c3ae-f0cc-4fcb-f1a6-83083fc2a0d9"
      },
      "execution_count": null,
      "outputs": [
        {
          "output_type": "execute_result",
          "data": {
            "text/plain": [
              "669639"
            ]
          },
          "metadata": {},
          "execution_count": 14
        }
      ]
    },
    {
      "cell_type": "markdown",
      "source": [
        "Number of passwords:\n"
      ],
      "metadata": {
        "id": "Bj2faglqxz6h"
      }
    },
    {
      "cell_type": "code",
      "source": [
        "len(allpasswords)"
      ],
      "metadata": {
        "colab": {
          "base_uri": "https://localhost:8080/"
        },
        "id": "KaMHjyOoxx_C",
        "outputId": "6628d224-cb1b-4b5d-bb4e-6a61ffc0ad00"
      },
      "execution_count": null,
      "outputs": [
        {
          "output_type": "execute_result",
          "data": {
            "text/plain": [
              "669639"
            ]
          },
          "metadata": {},
          "execution_count": 15
        }
      ]
    },
    {
      "cell_type": "markdown",
      "source": [
        "Convert words into characters"
      ],
      "metadata": {
        "id": "6cnL_B6NEKji"
      }
    },
    {
      "cell_type": "code",
      "source": [
        "def make_chars(inputs):\n",
        "    characters=[]\n",
        "    for letter in inputs:\n",
        "        characters.append(letter)\n",
        "    return characters"
      ],
      "metadata": {
        "id": "t6YFkyTl-ePS"
      },
      "execution_count": null,
      "outputs": []
    },
    {
      "cell_type": "markdown",
      "source": [
        "We will use the TfidfVectorizer package to convert the characters into numeric data (vectors of numbers)."
      ],
      "metadata": {
        "id": "Zb3foGzvEand"
      }
    },
    {
      "cell_type": "code",
      "source": [
        "vectorizer=TfidfVectorizer(tokenizer=make_chars)"
      ],
      "metadata": {
        "id": "7kJXQ1co-mfL"
      },
      "execution_count": null,
      "outputs": []
    },
    {
      "cell_type": "markdown",
      "source": [
        "Our input data (features) is saved in the allpasswords variable."
      ],
      "metadata": {
        "id": "B1dlZauhHb4s"
      }
    },
    {
      "cell_type": "code",
      "source": [
        "X = vectorizer.fit_transform(allpasswords)"
      ],
      "metadata": {
        "id": "68HHQrE4Cen4"
      },
      "execution_count": null,
      "outputs": []
    },
    {
      "cell_type": "markdown",
      "source": [
        "Splitting datasets creates two sets; one will be used for training the model and the other for testing. To split the dataset, we will use train_test_split."
      ],
      "metadata": {
        "id": "sfvEJdMlHgBk"
      }
    },
    {
      "cell_type": "code",
      "source": [
        "from sklearn.model_selection import train_test_split"
      ],
      "metadata": {
        "id": "TiELCNhb-46S"
      },
      "execution_count": null,
      "outputs": []
    },
    {
      "cell_type": "markdown",
      "source": [
        "We have used a test_size=0.2 so that 80% of the data is used for training and 20% for testing.\n",
        "\n"
      ],
      "metadata": {
        "id": "96QVKgOLHtQ7"
      }
    },
    {
      "cell_type": "code",
      "source": [
        "X_train, X_test, y_train, y_test = train_test_split(X, ylabels, test_size=0.2, random_state=42)"
      ],
      "metadata": {
        "id": "ooCeDFyTC1QS"
      },
      "execution_count": null,
      "outputs": []
    },
    {
      "cell_type": "markdown",
      "source": [
        "Let’s now build the model!\n",
        "\n",
        "We will build our model using the DecisionTreeClassifier algorithm."
      ],
      "metadata": {
        "id": "RvljF3VhHxlL"
      }
    },
    {
      "cell_type": "code",
      "source": [
        "from sklearn.tree import DecisionTreeClassifier"
      ],
      "metadata": {
        "id": "AaEZ0xFjC7bT"
      },
      "execution_count": null,
      "outputs": []
    },
    {
      "cell_type": "markdown",
      "source": [
        "To use the algorithm, we will initialize it using the following code:"
      ],
      "metadata": {
        "id": "vvirpEbRH_PU"
      }
    },
    {
      "cell_type": "code",
      "source": [
        "clf=DecisionTreeClassifier()"
      ],
      "metadata": {
        "id": "FmB1NGnGC-_O"
      },
      "execution_count": null,
      "outputs": []
    },
    {
      "cell_type": "markdown",
      "source": [
        "Finally, we fit the algorithm onto the train set dataset. This will ensure that the model fully learns from the dataset. Over time, the model will understand patterns and relationships within our dataset:"
      ],
      "metadata": {
        "id": "MTAAGCk8IUFV"
      }
    },
    {
      "cell_type": "code",
      "source": [
        "clf.fit(X_train, y_train)"
      ],
      "metadata": {
        "id": "1b7EDYUfDCG_",
        "colab": {
          "base_uri": "https://localhost:8080/",
          "height": 74
        },
        "outputId": "a29fe05d-8224-4ff8-a6d3-917c5dd2bb98"
      },
      "execution_count": null,
      "outputs": [
        {
          "output_type": "execute_result",
          "data": {
            "text/plain": [
              "DecisionTreeClassifier()"
            ],
            "text/html": [
              "<style>#sk-container-id-1 {color: black;background-color: white;}#sk-container-id-1 pre{padding: 0;}#sk-container-id-1 div.sk-toggleable {background-color: white;}#sk-container-id-1 label.sk-toggleable__label {cursor: pointer;display: block;width: 100%;margin-bottom: 0;padding: 0.3em;box-sizing: border-box;text-align: center;}#sk-container-id-1 label.sk-toggleable__label-arrow:before {content: \"▸\";float: left;margin-right: 0.25em;color: #696969;}#sk-container-id-1 label.sk-toggleable__label-arrow:hover:before {color: black;}#sk-container-id-1 div.sk-estimator:hover label.sk-toggleable__label-arrow:before {color: black;}#sk-container-id-1 div.sk-toggleable__content {max-height: 0;max-width: 0;overflow: hidden;text-align: left;background-color: #f0f8ff;}#sk-container-id-1 div.sk-toggleable__content pre {margin: 0.2em;color: black;border-radius: 0.25em;background-color: #f0f8ff;}#sk-container-id-1 input.sk-toggleable__control:checked~div.sk-toggleable__content {max-height: 200px;max-width: 100%;overflow: auto;}#sk-container-id-1 input.sk-toggleable__control:checked~label.sk-toggleable__label-arrow:before {content: \"▾\";}#sk-container-id-1 div.sk-estimator input.sk-toggleable__control:checked~label.sk-toggleable__label {background-color: #d4ebff;}#sk-container-id-1 div.sk-label input.sk-toggleable__control:checked~label.sk-toggleable__label {background-color: #d4ebff;}#sk-container-id-1 input.sk-hidden--visually {border: 0;clip: rect(1px 1px 1px 1px);clip: rect(1px, 1px, 1px, 1px);height: 1px;margin: -1px;overflow: hidden;padding: 0;position: absolute;width: 1px;}#sk-container-id-1 div.sk-estimator {font-family: monospace;background-color: #f0f8ff;border: 1px dotted black;border-radius: 0.25em;box-sizing: border-box;margin-bottom: 0.5em;}#sk-container-id-1 div.sk-estimator:hover {background-color: #d4ebff;}#sk-container-id-1 div.sk-parallel-item::after {content: \"\";width: 100%;border-bottom: 1px solid gray;flex-grow: 1;}#sk-container-id-1 div.sk-label:hover label.sk-toggleable__label {background-color: #d4ebff;}#sk-container-id-1 div.sk-serial::before {content: \"\";position: absolute;border-left: 1px solid gray;box-sizing: border-box;top: 0;bottom: 0;left: 50%;z-index: 0;}#sk-container-id-1 div.sk-serial {display: flex;flex-direction: column;align-items: center;background-color: white;padding-right: 0.2em;padding-left: 0.2em;position: relative;}#sk-container-id-1 div.sk-item {position: relative;z-index: 1;}#sk-container-id-1 div.sk-parallel {display: flex;align-items: stretch;justify-content: center;background-color: white;position: relative;}#sk-container-id-1 div.sk-item::before, #sk-container-id-1 div.sk-parallel-item::before {content: \"\";position: absolute;border-left: 1px solid gray;box-sizing: border-box;top: 0;bottom: 0;left: 50%;z-index: -1;}#sk-container-id-1 div.sk-parallel-item {display: flex;flex-direction: column;z-index: 1;position: relative;background-color: white;}#sk-container-id-1 div.sk-parallel-item:first-child::after {align-self: flex-end;width: 50%;}#sk-container-id-1 div.sk-parallel-item:last-child::after {align-self: flex-start;width: 50%;}#sk-container-id-1 div.sk-parallel-item:only-child::after {width: 0;}#sk-container-id-1 div.sk-dashed-wrapped {border: 1px dashed gray;margin: 0 0.4em 0.5em 0.4em;box-sizing: border-box;padding-bottom: 0.4em;background-color: white;}#sk-container-id-1 div.sk-label label {font-family: monospace;font-weight: bold;display: inline-block;line-height: 1.2em;}#sk-container-id-1 div.sk-label-container {text-align: center;}#sk-container-id-1 div.sk-container {/* jupyter's `normalize.less` sets `[hidden] { display: none; }` but bootstrap.min.css set `[hidden] { display: none !important; }` so we also need the `!important` here to be able to override the default hidden behavior on the sphinx rendered scikit-learn.org. See: https://github.com/scikit-learn/scikit-learn/issues/21755 */display: inline-block !important;position: relative;}#sk-container-id-1 div.sk-text-repr-fallback {display: none;}</style><div id=\"sk-container-id-1\" class=\"sk-top-container\"><div class=\"sk-text-repr-fallback\"><pre>DecisionTreeClassifier()</pre><b>In a Jupyter environment, please rerun this cell to show the HTML representation or trust the notebook. <br />On GitHub, the HTML representation is unable to render, please try loading this page with nbviewer.org.</b></div><div class=\"sk-container\" hidden><div class=\"sk-item\"><div class=\"sk-estimator sk-toggleable\"><input class=\"sk-toggleable__control sk-hidden--visually\" id=\"sk-estimator-id-1\" type=\"checkbox\" checked><label for=\"sk-estimator-id-1\" class=\"sk-toggleable__label sk-toggleable__label-arrow\">DecisionTreeClassifier</label><div class=\"sk-toggleable__content\"><pre>DecisionTreeClassifier()</pre></div></div></div></div></div>"
            ]
          },
          "metadata": {},
          "execution_count": 23
        }
      ]
    },
    {
      "cell_type": "markdown",
      "source": [
        "Model testing"
      ],
      "metadata": {
        "id": "0hT-jz3QIex7"
      }
    },
    {
      "cell_type": "code",
      "source": [
        "y_pred=clf.predict(X_test)\n",
        "y_pred"
      ],
      "metadata": {
        "id": "BKAdtqvVDT2r",
        "colab": {
          "base_uri": "https://localhost:8080/"
        },
        "outputId": "65ae619e-c389-4355-b8f9-b5163c901e13"
      },
      "execution_count": null,
      "outputs": [
        {
          "output_type": "execute_result",
          "data": {
            "text/plain": [
              "array([1, 2, 0, ..., 1, 1, 2])"
            ]
          },
          "metadata": {},
          "execution_count": 24
        }
      ]
    },
    {
      "cell_type": "markdown",
      "source": [
        "Accuracy score using the testing dataset"
      ],
      "metadata": {
        "id": "35kr_Gm4Ita4"
      }
    },
    {
      "cell_type": "code",
      "source": [
        "print(\"Accuracy :\",clf.score(X_test, y_test))"
      ],
      "metadata": {
        "id": "sbC6Xx62DcwN",
        "colab": {
          "base_uri": "https://localhost:8080/"
        },
        "outputId": "9c59f51b-1138-4b18-f483-b5397ba947f8"
      },
      "execution_count": null,
      "outputs": [
        {
          "output_type": "stream",
          "name": "stdout",
          "text": [
            "Accuracy : 0.9742548234872469\n"
          ]
        }
      ]
    },
    {
      "cell_type": "code",
      "source": [
        "y_pred=clf.predict(X_test)\n",
        "y_pred"
      ],
      "metadata": {
        "colab": {
          "base_uri": "https://localhost:8080/"
        },
        "id": "cPuV2azHD_4Q",
        "outputId": "720d6ccd-8585-421f-a203-3b40eea21dd2"
      },
      "execution_count": null,
      "outputs": [
        {
          "output_type": "execute_result",
          "data": {
            "text/plain": [
              "array([1, 2, 0, ..., 1, 1, 2])"
            ]
          },
          "metadata": {},
          "execution_count": 26
        }
      ]
    },
    {
      "cell_type": "code",
      "source": [
        "print(\"Accuracy :\",clf.score(X_test, y_test))"
      ],
      "metadata": {
        "id": "rWEuI7XvG3ql",
        "colab": {
          "base_uri": "https://localhost:8080/"
        },
        "outputId": "ddc976e4-a925-48cc-87a5-073547d13e62"
      },
      "execution_count": null,
      "outputs": [
        {
          "output_type": "stream",
          "name": "stdout",
          "text": [
            "Accuracy : 0.9742548234872469\n"
          ]
        }
      ]
    },
    {
      "cell_type": "markdown",
      "source": [
        "**Single prediction**\n",
        "\n",
        "In a single prediction, we input sample passwords to our model for it to make predictions. We will use the following input passwords:"
      ],
      "metadata": {
        "id": "MRRhOCmocA5S"
      }
    },
    {
      "cell_type": "code",
      "source": [
        "X_predict = ['drshsyqb*',\n",
        " 'python'\n",
        " 'littledotsK18@#',\n",
        " 'password##@',\n",
        " 'ajd1348#28t**',\n",
        " 'gtddsdsaa',\n",
        " 'silasaw',\n",
        " '123456',\n",
        " 'abcdef']"
      ],
      "metadata": {
        "id": "Rdw_6NKzcAFc"
      },
      "execution_count": null,
      "outputs": []
    },
    {
      "cell_type": "markdown",
      "source": [
        "The vectorizer.transform method will convert the password text into numeric data. clf.predict method will perform the prediction. print will print the prediction results, as shown below:"
      ],
      "metadata": {
        "id": "uIgQnngTfIiQ"
      }
    },
    {
      "cell_type": "code",
      "source": [
        "X_predict = vectorizer.transform(X_predict)\n",
        "y_Predict = clf.predict(X_predict)\n",
        "print(y_Predict)"
      ],
      "metadata": {
        "id": "MluBL4orcPqC",
        "colab": {
          "base_uri": "https://localhost:8080/"
        },
        "outputId": "690e92c1-8478-420b-ef3a-108aaafd7549"
      },
      "execution_count": null,
      "outputs": [
        {
          "output_type": "stream",
          "name": "stdout",
          "text": [
            "[1 2 1 2 2 1 0 0]\n"
          ]
        }
      ]
    }
  ]
}